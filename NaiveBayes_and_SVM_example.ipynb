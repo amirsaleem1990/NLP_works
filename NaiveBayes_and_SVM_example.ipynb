{
 "cells": [
  {
   "cell_type": "markdown",
   "metadata": {},
   "source": [
    "# Text classification using NaiveBayes"
   ]
  },
  {
   "cell_type": "code",
   "execution_count": null,
   "metadata": {},
   "outputs": [],
   "source": [
    "from sklearn import naive_bayes\n",
    "\n",
    "# base model\n",
    "clfrNB = naive_bayes.MultinomialNB()\n",
    "\n",
    "# training\n",
    "clfrNB.fit(train_data, train_labels)\n",
    "\n",
    "# you can merge above thw lines as: \n",
    "# clfrNB = naive_bayes.MultinomialNB().fit(train_data, train_labels)\n",
    "\n",
    "# predict\n",
    "predicted_labels = clfrNB.predict(test_data)\n",
    "\n",
    "# check accuracy\n",
    "metrics.f1_score(test_labels, predicted_labels, average = 'micro')\n"
   ]
  },
  {
   "cell_type": "markdown",
   "metadata": {},
   "source": [
    "# Text classification using SVM (support vector machine)"
   ]
  },
  {
   "cell_type": "code",
   "execution_count": null,
   "metadata": {},
   "outputs": [],
   "source": [
    "from sklearn import svm\n",
    "clfrSVM = svm.SVC(kernel = 'linear', C= 0.1)\n",
    "# the default perameter for <c> perameter is <1>.. is ko jitna kam karen gy itna model general ho ga, or jitna zyada karen gy utna model overfit ho ga.\n",
    "\n",
    "# train\n",
    "clfrSVM.fit(train_data, train_labels)\n",
    "\n",
    "# predict\n",
    "predicted_labels = clfrSVM.predict(test_data)"
   ]
  }
 ],
 "metadata": {
  "kernelspec": {
   "display_name": "Python 3",
   "language": "python",
   "name": "python3"
  },
  "language_info": {
   "codemirror_mode": {
    "name": "ipython",
    "version": 3
   },
   "file_extension": ".py",
   "mimetype": "text/x-python",
   "name": "python",
   "nbconvert_exporter": "python",
   "pygments_lexer": "ipython3",
   "version": "3.6.4"
  }
 },
 "nbformat": 4,
 "nbformat_minor": 2
}
