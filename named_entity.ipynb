{
 "cells": [
  {
   "cell_type": "code",
   "execution_count": 1,
   "metadata": {},
   "outputs": [
    {
     "name": "stdout",
     "output_type": "stream",
     "text": [
      "https://textminingonline.com/how-to-use-stanford-named-entity-recognizer-ner-in-python-nltk-and-other-programming-languages\n"
     ]
    }
   ],
   "source": [
    "print(\"https://textminingonline.com/how-to-use-stanford-named-entity-recognizer-ner-in-python-nltk-and-other-programming-languages\")\n",
    "from nltk.tag.stanford import StanfordNERTagger\n",
    "st = StanfordNERTagger(\"english.all.3class.distsim.crf.ser.gz\",\n",
    "               \"stanford-ner.jar\")\n",
    "# st.tag(\"Nasir Jacob Muhammad Mohammad Iqbal Amir Noman Imran Khan DELL Arif Microsoft Apple HP Google\".split())\n",
    "# a = st.tag(\"Rami Eid is studying at Stony Brook University in NY\".split())\n",
    "article_link = \"https://www.dawn.com/news/1443081/pakistan-wants-to-learn-from-china-pm-khan-tells-president-xi-in-beijing\"\n",
    "article = \"\"\"\n",
    "Prime Minister Imran Khan met Chinese President Xi Jinping in Beijing on Friday while on his first official visit to China, Radio Pakistan reported.\n",
    "\n",
    "In the meeting between Khan and Xi, the premier told the Chinese president about Pakistan's \"very difficult\" economic situation, Reuters reported.\n",
    "\n",
    "\"My party has only been in power for two months. Unfortunately we have inherited a very difficult economic situation,\" PM Khan said.\n",
    "\n",
    "\"Countries go in cycles. They have their high points, they have their low points. Unfortunately, our country is going through a low point at the moment with two very big deficits, a fiscal deficit and a current account deficit. And so we, as I’ve said, have come to learn,\" Reuters quoted Imran Khan as saying.\n",
    "\n",
    "The premier described Xi as a role model owing to his vision and leadership. \"Our country is very impressed the way China has progressed. China's phenomenal achievements are worth emulating. No other country has tackled poverty and corruption the way China has tackled it,\" he said.\n",
    "\n",
    "\"Pakistan wants to learn from China's experience in poverty alleviation and curbing corruption,\" he added.\n",
    "\n",
    "President Xi Jinping, while welcoming the prime minister, said that Pak-China relations have already been strengthening, and have now gained momentum.\n",
    "\n",
    "\"The relationship has not only benefited the two countries but also the region,\" Xi said.\n",
    "\n",
    "President Xi told PM Khan that he valued both countries' relations, and reaffirmed their \"all-weather\" friendship.\n",
    "\n",
    "\"I attach great importance to China-Pakistan relations and am willing to work together with the prime minister to strengthen the China-Pakistan all-weather strategic partnership and build a new era of China-Pakistan destiny,\" Xi said.\n",
    "\n",
    "PM Khan extended an invitation to President Xi Jinping to visit Pakistan.\n",
    "\n",
    "Neither side mentioned economic aid in their comments in front of the press, Reuters reported.\n",
    "\n",
    "Both leaders reinforced their shared commitment to taking their all-weather and time-tested Pak-China friendship to new heights,and further strengthening the existing multifaceted equation of the two countries for theirs and the regions's benefit, Radio Pakistan reported.\n",
    "\n",
    "Foreign Minister Shah Mahmood Qureshi, who is accompanying the PM, met his counterpart, Wang Yi.\n",
    "\n",
    "Delegation-level talks\n",
    "Chinese President Xi Jinping (2nd L) listens to Prime Minister Imran Khan (R) during their meeting at the Great Hall of the People in Beijing on November 2, 2018. ─ AFP\n",
    "\n",
    "Both sides also held a delegation-level meeting. PM Khan is leading the Pakistani delegation, while President Xi is leading the Chinese side.\n",
    "\n",
    "Both sides are discussing bilateral ties and matters of mutual regional and international interests, and reviewing all aspects of the Pak-China strategic partnership.\n",
    "\n",
    "Pakistan looks to review bilateral ties\n",
    "\n",
    "The PM's four-day visit is aimed at reviewing the entire range of bilateral relations and to participate in the First China International Import Expo in Shanghai. Both sides are also expected to sign several agreements and MoUs of cooperation in diverse fields.\n",
    "\n",
    "He is also scheduled to meet Premier Li Keqiang, president of the Asian Infrastructure Investment Bank, Jin Liqun, and Minister for International Department of the Central Committee Communist Party of China Song Tao.\n",
    "\n",
    "On Thursday, Minister for Planning Makhdoom Khusro Bukhtiar said that Pakistan would not seek rescheduling of about $2.7 billion in Chinese loans due for repayment this year but expected a good economic package, including exp­ansion of the multi-billion dollar China-Pakistan Economic Corridor (CPEC) to another level.\n",
    "\n",
    "Read more: Islamabad expects good economic package from Beijing\n",
    "\n",
    "The prime minister separately told Chinese journalists that he hoped the scale of Chinese partnership would help Pakistan bridge its current account deficit and build foreign exchange reserves. He said his government had been working on two paths, including an International Monetary Fund (IMF) programme and support from friendly countries.\n",
    "\n",
    "He noted the assistance agreed to by Saudi Arabia, and said that China's support would allow Pakistan to avoid a large IMF loan that may attract tough conditionalities which ultimately lead to inflation, squeeze the economy and put additional burden on the people.\n",
    "\n",
    "The premier is accompanied by Bakhtiar, Foreign Minister Shah Mahmood Qureshi, Finance Minister Asad Umar, Railways Minister Sheikh Rashid Ahmed, Adviser to the Prime Minister on Commerce, Industry and Investment Abdul Razzak Dawood, and Chief Minister of Balochistan Jam Mir Kamal on his trip to China.\n",
    "\n",
    "PM Khan was received at Beijing Airport by China’s Minister for Transport Li Xiaopeng, Ambassador to Pakistan Yao Jing, and other senior government officials. Pakistan's Ambassador to China Masood Khalid was also present.\n",
    "\n",
    "The premier is expected to visit Shanghai to participate in the First China International Import Expo in Shanghai, where Pakistan is exhibiting a wide range of export products.\n",
    "\n",
    "He will be a keynote speaker at the inauguration of the Expo, and will hold meetings with other world leaders on the sidelines of the event.\n",
    "\"\"\""
   ]
  },
  {
   "cell_type": "code",
   "execution_count": 5,
   "metadata": {},
   "outputs": [
    {
     "name": "stdout",
     "output_type": "stream",
     "text": [
      "['Imran', 'Khan', 'Xi', 'Jinping', 'Khan', 'Khan', 'Imran', 'Khan', 'Xi', 'Khan', 'Khan', 'Xi', 'Jinping', 'Shah', 'Mahmood', 'Wang', 'Yi.', 'Delegation-level', 'Xi', 'Jinping', 'Imran', 'Khan', 'Khan', 'Li', 'Keqiang,', 'Makhdoom', 'Khusro', 'Bukhtiar', 'Shah', 'Mahmood', 'Abdul', 'Razzak', 'Jam', 'Mir', 'Kamal', 'Khan', 'Li', 'Masood', 'Khalid']\n"
     ]
    }
   ],
   "source": [
    "a = st.tag(article.split())\n",
    "b = [i[0] for i in a if i[1] == 'PERSON']\n",
    "print(b)"
   ]
  },
  {
   "cell_type": "code",
   "execution_count": 6,
   "metadata": {},
   "outputs": [
    {
     "name": "stdout",
     "output_type": "stream",
     "text": [
      "[('Shanghai', 'LOCATION'), ('Mahmood', 'PERSON'), ('Li', 'PERSON'), ('Khan', 'PERSON'), ('Khalid', 'PERSON'), ('the', 'ORGANIZATION'), ('Fund', 'ORGANIZATION'), ('Reuters', 'ORGANIZATION'), ('China', 'ORGANIZATION'), ('Khusro', 'PERSON'), ('Airport', 'LOCATION'), ('China-Pakistan', 'ORGANIZATION'), ('Asian', 'ORGANIZATION'), ('Razzak', 'PERSON'), ('China', 'LOCATION'), ('Abdul', 'PERSON'), ('Delegation-level', 'PERSON'), ('Import', 'ORGANIZATION'), ('Islamabad', 'LOCATION'), ('Jam', 'PERSON'), ('Bank,', 'ORGANIZATION'), ('Imran', 'PERSON'), ('Infrastructure', 'ORGANIZATION'), ('Shah', 'PERSON'), ('Beijing', 'LOCATION'), ('Chinese', 'LOCATION'), ('Keqiang,', 'PERSON'), ('First', 'ORGANIZATION'), ('International', 'ORGANIZATION'), ('Makhdoom', 'PERSON'), ('Expo', 'ORGANIZATION'), ('Monetary', 'ORGANIZATION'), ('Jinping', 'PERSON'), ('Bukhtiar', 'PERSON'), ('Kamal', 'PERSON'), ('Tao.', 'ORGANIZATION'), ('Xi', 'PERSON'), ('Jin', 'ORGANIZATION'), ('Corridor', 'ORGANIZATION'), ('Pakistan', 'LOCATION'), ('Committee', 'ORGANIZATION'), ('Investment', 'ORGANIZATION'), ('Balochistan', 'LOCATION'), ('Department', 'ORGANIZATION'), ('Yi.', 'PERSON'), ('Liqun,', 'ORGANIZATION'), ('Party', 'ORGANIZATION'), ('of', 'ORGANIZATION'), ('Wang', 'PERSON'), ('Communist', 'ORGANIZATION'), ('Economic', 'ORGANIZATION'), ('Song', 'ORGANIZATION'), ('Central', 'ORGANIZATION'), ('IMF', 'ORGANIZATION'), ('Mir', 'PERSON'), ('Masood', 'PERSON')]\n"
     ]
    }
   ],
   "source": [
    "print([i for i in set(a) if i[1] != 'O'])"
   ]
  }
 ],
 "metadata": {
  "kernelspec": {
   "display_name": "Python 3",
   "language": "python",
   "name": "python3"
  },
  "language_info": {
   "codemirror_mode": {
    "name": "ipython",
    "version": 3
   },
   "file_extension": ".py",
   "mimetype": "text/x-python",
   "name": "python",
   "nbconvert_exporter": "python",
   "pygments_lexer": "ipython3",
   "version": "3.6.4"
  }
 },
 "nbformat": 4,
 "nbformat_minor": 2
}
